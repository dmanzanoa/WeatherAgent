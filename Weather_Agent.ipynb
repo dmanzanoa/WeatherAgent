{
  "nbformat": 4,
  "nbformat_minor": 0,
  "metadata": {
    "colab": {
      "provenance": [],
      "authorship_tag": "ABX9TyPigC/a5aw2FylE48n5rBP1",
      "include_colab_link": true
    },
    "kernelspec": {
      "name": "python3",
      "display_name": "Python 3"
    },
    "language_info": {
      "name": "python"
    }
  },
  "cells": [
    {
      "cell_type": "markdown",
      "metadata": {
        "id": "view-in-github",
        "colab_type": "text"
      },
      "source": [
        "<a href=\"https://colab.research.google.com/github/dmanzanoa/WeatherAgent/blob/main/Weather_Agent.ipynb\" target=\"_parent\"><img src=\"https://colab.research.google.com/assets/colab-badge.svg\" alt=\"Open In Colab\"/></a>"
      ]
    },
    {
      "cell_type": "code",
      "execution_count": 1,
      "metadata": {
        "id": "UNOsy_PEEAqD"
      },
      "outputs": [],
      "source": [
        "%%capture\n",
        "!pip install openai-agents\n",
        "!pip install requests"
      ]
    },
    {
      "cell_type": "code",
      "source": [
        "%%capture\n",
        "!pip install --no-cache-dir google-search-results"
      ],
      "metadata": {
        "id": "6Xr1qcjAaPsx"
      },
      "execution_count": 2,
      "outputs": []
    },
    {
      "cell_type": "code",
      "source": [
        "from serpapi.google_search import GoogleSearch\n",
        "print(\"GoogleSearch imported directly!\")"
      ],
      "metadata": {
        "id": "UaF6W2h4ZMn4",
        "colab": {
          "base_uri": "https://localhost:8080/"
        },
        "outputId": "93c85965-06c0-4f16-b76d-fd56d791b69d"
      },
      "execution_count": 3,
      "outputs": [
        {
          "output_type": "stream",
          "name": "stdout",
          "text": [
            "GoogleSearch imported directly!\n"
          ]
        }
      ]
    },
    {
      "cell_type": "code",
      "source": [
        "import os\n",
        "os.environ[\"OPENAI_API_KEY\"] = \"sxxxxx\"  # your new API key here"
      ],
      "metadata": {
        "id": "Jx-_4ActEiXu"
      },
      "execution_count": 5,
      "outputs": []
    },
    {
      "cell_type": "code",
      "source": [
        "import json\n",
        "import asyncio\n",
        "import nest_asyncio\n",
        "from typing_extensions import TypedDict\n",
        "import requests\n",
        "\n",
        "from agents import Agent, FunctionTool, RunContextWrapper, function_tool, Runner\n",
        "\n",
        "nest_asyncio.apply()  # <-- important for Jupyter/Colab\n",
        "\n",
        "# Tool input: just the city name\n",
        "class LocationByCity(TypedDict):\n",
        "    city: str\n",
        "\n",
        "\n",
        "@function_tool\n",
        "async def get_weather(location: LocationByCity) -> str:\n",
        "    \"\"\"Fetch real-time weather for a given city using OpenWeatherMap API.\"\"\"\n",
        "    city = location[\"city\"]\n",
        "    response = requests.get(\n",
        "        f\"http://api.weatherapi.com/v1/current.json?key=b3c948ca8cb6495c87682750250808&q={city}\")\n",
        "        #f\"&appid={OPENWEATHER_API_KEY}&units=metric\"\n",
        "    if response.status_code == 200:\n",
        "        data = response.json()\n",
        "        return data\n",
        "    else:\n",
        "      return f\"Sorry, I couldn't get the weather for {city}.\"\n",
        "\n",
        "@function_tool\n",
        "async def get_events(location: LocationByCity) -> str:\n",
        "    city = location[\"city\"]\n",
        "    params = {\n",
        "      \"engine\": \"google_events\",\n",
        "      \"q\": f\"Events in {city}\",\n",
        "      \"hl\": \"en\",\n",
        "      \"gl\": \"us\",\n",
        "      \"api_key\": \"xxxxx\"\n",
        "    }\n",
        "\n",
        "    search = GoogleSearch(params)\n",
        "    results = search.get_dict()\n",
        "    events_results = results[\"events_results\"]\n",
        "    return events_results\n",
        "\n",
        "# Define the agent\n",
        "weather_agent = Agent(\n",
        "    name=\"Weather Agent\",\n",
        "    instructions=(\"\"\"\n",
        "    You are a helpful weather assistant. You can only answer questions about the weather of a city.\n",
        "\n",
        "    If the user asks anything not related to the weather of a specific location, respond with:\n",
        "    \"I'm only able to provide weather information for cities. Please ask me about the weather in a specific place.\"\n",
        "\n",
        "    If they ask about a location, call the `get_weather` function with the correct coordinates.\n",
        "    \"\"\"),\n",
        "    tools=[get_weather, get_events],\n",
        ")\n",
        "\n",
        "# Define the agent\n",
        "combined_agent = Agent(\n",
        "    name=\"City Info Agent\",\n",
        "    instructions=\"\"\"\n",
        "    You are an assistant that can answer questions about:\n",
        "    - weather in a city (use get_weather tool)\n",
        "    - events happening in a city (use get_events tool)\n",
        "\n",
        "    For weather questions, call the get_weather function with the city name.\n",
        "    For events questions, call the get_events function with the city name.\n",
        "\n",
        "    If the question is not about weather or events, reply:\n",
        "    \"Sorry, I can only provide information about weather or events in cities. Please ask about those.\"\n",
        "    \"\"\",\n",
        "    tools=[get_weather, get_events],\n",
        ")\n",
        "\n",
        "# Run test input\n",
        "async def main():\n",
        "    result1 = await Runner.run(combined_agent, input=\"What events are happening in New York?\")\n",
        "    print(result1.final_output)\n",
        "\n",
        "await main()\n"
      ],
      "metadata": {
        "colab": {
          "base_uri": "https://localhost:8080/"
        },
        "id": "PzPdCY0wMA6j",
        "outputId": "b06b114d-f939-4ac8-cf8a-86f4f468e357"
      },
      "execution_count": 8,
      "outputs": [
        {
          "output_type": "stream",
          "name": "stderr",
          "text": [
            "WARNING:openai.agents:OPENAI_API_KEY is not set, skipping trace export\n"
          ]
        },
        {
          "output_type": "stream",
          "name": "stdout",
          "text": [
            "Here are some events happening in New York:\n",
            "\n",
            "1. **Noize MC**\n",
            "   - **Date:** Sun, Aug 17, 5 – 9 PM\n",
            "   - **Venue:** Terminal 5, 610 W 56th St #612, New York, NY\n",
            "   - [Find Tickets](https://open.spotify.com/concert/6AU77Uwi4iBRJVWWjte0pb)\n",
            "\n",
            "2. **Lost Together Festival**\n",
            "   - **Date:** Sat, Aug 16, 5 PM – Sun, Aug 17, 1 AM\n",
            "   - **Venue:** Industry City, 220 36th St, Brooklyn, NY\n",
            "   - [Find Tickets](https://www.eventbrite.com/e/lost-together-festival-industry-city-nyc-tickets-1544495259899)\n",
            "\n",
            "3. **New York Renaissance Faire**\n",
            "   - **Date:** Fri, Aug 15, 8:00 PM – Sat, Aug 16, 12:30 PM\n",
            "   - **Venue:** New York Renaissance Faire, 600 NY-17A, Tuxedo Park, NY\n",
            "   - [Find Tickets](https://www.stubhub.com/_C-364823?pcid=PSUSAEVECONALLEF426C5CF9E&ps_p=8&ps_placement=eventfeed&ps=vn-150150643%7Cev-158447311%7Ccy-99326&ps_ev=158447311)\n",
            "\n",
            "4. **Dark Star Orchestra**\n",
            "   - **Date:** Fri, Aug 15, 6:00 – 7:30 PM\n",
            "   - **Venue:** Pier 17, 89 South St, New York, NY\n",
            "   - [Find Tickets](https://open.spotify.com/concert/2JgxxGfrFvpkqLRbR53Sd5)\n",
            "\n",
            "5. **DL + DL Anything Goes - Don Lemon and DL Hughley**\n",
            "   - **Date:** Tue, Aug 12, 7:30 – 9:00 PM\n",
            "   - **Venue:** City Winery New York City, 25 11th Ave, New York, NY\n",
            "   - [Find Tickets](https://citywinery.com/new-york-city/events/dl-dl-anything-goes-episode-2-don-lemon-and-dl-h-qdhdih)\n",
            "\n",
            "Feel free to ask for more details on any specific event!\n"
          ]
        }
      ]
    },
    {
      "cell_type": "code",
      "source": [
        "async def main():\n",
        "    # Weather question\n",
        "    result1 = await Runner.run(combined_agent, input=\"What's the weather like in Paris?\")\n",
        "    print(result1.final_output)\n",
        "\n",
        "    # Events question\n",
        "    result2 = await Runner.run(combined_agent, input=\"What events are happening in New York?\")\n",
        "    print(result2.final_output)\n",
        "\n",
        "    # Other question\n",
        "    result3 = await Runner.run(combined_agent, input=\"Tell me about restaurants in Tokyo\")\n",
        "    print(result3.final_output)\n",
        "\n",
        "await main()"
      ],
      "metadata": {
        "id": "J5goT89zffXu"
      },
      "execution_count": null,
      "outputs": []
    }
  ]
}